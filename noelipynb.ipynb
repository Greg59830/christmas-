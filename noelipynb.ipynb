{
  "nbformat": 4,
  "nbformat_minor": 0,
  "metadata": {
    "colab": {
      "provenance": []
    },
    "kernelspec": {
      "name": "python3",
      "display_name": "Python 3"
    },
    "language_info": {
      "name": "python"
    }
  },
  "cells": [
    {
      "cell_type": "code",
      "source": [
        "\"\"\"\n",
        "Rq :\n",
        "définir dès le début lis1 et la lisre 2 avec une liste des nom (pas besoin de initialiser une liste vide )\n",
        "\n",
        "\n",
        "\n",
        "je veux un affichage claire du genre avec le f string( f'....') : la personne .... donne un  cadeau à .....\n",
        "\n",
        "attention à chaque fois que tu affiche un message il faut supprimer celui qui donne le cadeau et celui qui le reçoit\n",
        "\"\"\""
      ],
      "metadata": {
        "id": "Apx_tMj2qZnZ"
      },
      "execution_count": null,
      "outputs": []
    },
    {
      "cell_type": "code",
      "source": [
        "import random\n",
        "from random import choice  "
      ],
      "metadata": {
        "id": "7NeBzo6VaycT"
      },
      "execution_count": null,
      "outputs": []
    },
    {
      "cell_type": "code",
      "source": [
        "#créer algo pour tirage au sort\n",
        "#regles: _ on ne peut pas se tirer au sort\n",
        "#        _ on n'est pas obligé de faire un cadeau à la personne qui nous a tiré au sort\n",
        "#on doit aussi supprimer le nom tiré"
      ],
      "metadata": {
        "id": "KeLljFc6Tx6j"
      },
      "execution_count": null,
      "outputs": []
    },
    {
      "cell_type": "markdown",
      "source": [
        "TEST autre méthode"
      ],
      "metadata": {
        "id": "Wx188o0xvNyI"
      }
    },
    {
      "cell_type": "code",
      "source": [
        "print(\"Bienvenue au tirage de cadeau de noël,nous allons sélectionner, qui offre un cadeau à qui, budget de 5€ par cadeau, chocolats, câbles USB, petite enceinte....\")"
      ],
      "metadata": {
        "colab": {
          "base_uri": "https://localhost:8080/"
        },
        "id": "sGChS8-nx52m",
        "outputId": "fd81cf64-bba7-4ad2-a360-3a7df71d8112"
      },
      "execution_count": null,
      "outputs": [
        {
          "output_type": "stream",
          "name": "stdout",
          "text": [
            "Bienvenue au tirage de cadeau de noël,nous allons sélectionner, qui offre un cadeau à qui, budget de 5€ par cadeau, chocolats, câbles USB, petite enceinte....\n"
          ]
        }
      ]
    },
    {
      "cell_type": "code",
      "source": [
        "print(\"attention ça ca aller très vite!\")"
      ],
      "metadata": {
        "colab": {
          "base_uri": "https://localhost:8080/"
        },
        "id": "l9x_OhS5yPUs",
        "outputId": "8bc35266-9eff-4090-ceae-18ae7068166a"
      },
      "execution_count": null,
      "outputs": [
        {
          "output_type": "stream",
          "name": "stdout",
          "text": [
            "attention ça ca aller très vite!\n"
          ]
        }
      ]
    },
    {
      "cell_type": "code",
      "source": [
        "lst1 = ['Alexis','Audrey','Clément','Fatima','Grégory','Jonathan','Maria','Martin_B','Martin_C','Reine'] \n",
        "lst2 = ['Alexis','Audrey','Clément','Fatima','Grégory','Jonathan','Maria','Martin_B','Martin_C','Reine']                                                                                      \n",
        "                                                                                                                                                                              \n",
        "while lst1 and lst2: \n",
        "  choice1 = choice(lst1) \n",
        "  choice2= choice(lst2) \n",
        "  lst1.remove(choice1) \n",
        "  lst2.remove(choice2) \n",
        "  print(f'{choice1} offre un cadeau à {choice2}')"
      ],
      "metadata": {
        "colab": {
          "base_uri": "https://localhost:8080/"
        },
        "id": "fo8SZBXwvLxh",
        "outputId": "bcd3ece0-ac33-481f-a8f7-761c2a263f88"
      },
      "execution_count": null,
      "outputs": [
        {
          "output_type": "stream",
          "name": "stdout",
          "text": [
            "Martin_B offre un cadeau à Maria\n",
            "Reine offre un cadeau à Martin_C\n",
            "Fatima offre un cadeau à Grégory\n",
            "Clément offre un cadeau à Martin_B\n",
            "Grégory offre un cadeau à Jonathan\n",
            "Audrey offre un cadeau à Clément\n",
            "Jonathan offre un cadeau à Alexis\n",
            "Martin_C offre un cadeau à Audrey\n",
            "Maria offre un cadeau à Reine\n",
            "Alexis offre un cadeau à Fatima\n"
          ]
        }
      ]
    },
    {
      "cell_type": "code",
      "source": [
        "print(\"pour RAMI chacun prévoit 1 € de plus soit 10€ au Total pour un cadeau spécial en commun pour Rami\")"
      ],
      "metadata": {
        "colab": {
          "base_uri": "https://localhost:8080/"
        },
        "id": "SG_t5kLHyWOe",
        "outputId": "9ad1bf9b-7c48-4dca-f6ef-e6c43ea1b270"
      },
      "execution_count": null,
      "outputs": [
        {
          "output_type": "stream",
          "name": "stdout",
          "text": [
            "pour RAMI chacun prévoit 1 € de plus soit 10€ au Total pour un cadeau spécial en commun pour Rami\n"
          ]
        }
      ]
    }
  ]
}